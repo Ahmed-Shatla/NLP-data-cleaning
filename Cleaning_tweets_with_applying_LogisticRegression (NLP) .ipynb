{
  "nbformat": 4,
  "nbformat_minor": 0,
  "metadata": {
    "colab": {
      "name": "Cleaning tweets.ipynb",
      "provenance": [],
      "authorship_tag": "ABX9TyPecnzkWI6ftUjfJBI8wBoL",
      "include_colab_link": true
    },
    "kernelspec": {
      "name": "python3",
      "display_name": "Python 3"
    },
    "language_info": {
      "name": "python"
    },
    "accelerator": "TPU"
  },
  "cells": [
    {
      "cell_type": "markdown",
      "metadata": {
        "id": "view-in-github",
        "colab_type": "text"
      },
      "source": [
        "<a href=\"https://colab.research.google.com/github/Ahmed-Shatla/NLP-data-cleaning/blob/main/Cleaning_tweets_with_applying_LogisticRegression%20(NLP)%20.ipynb\" target=\"_parent\"><img src=\"https://colab.research.google.com/assets/colab-badge.svg\" alt=\"Open In Colab\"/></a>"
      ]
    },
    {
      "cell_type": "code",
      "execution_count": 1,
      "metadata": {
        "id": "wGMGAOCcbHng"
      },
      "outputs": [],
      "source": [
        "import nltk"
      ]
    },
    {
      "cell_type": "markdown",
      "source": [
        "#downloading"
      ],
      "metadata": {
        "id": "6hl4zRz3cP6f"
      }
    },
    {
      "cell_type": "code",
      "source": [
        "nltk.download('twitter_samples')"
      ],
      "metadata": {
        "id": "IERzFriVbbUi",
        "outputId": "282a256a-04a9-422a-cdff-aa80e4c8f14f",
        "colab": {
          "base_uri": "https://localhost:8080/"
        }
      },
      "execution_count": 2,
      "outputs": [
        {
          "output_type": "stream",
          "name": "stdout",
          "text": [
            "[nltk_data] Downloading package twitter_samples to /root/nltk_data...\n",
            "[nltk_data]   Package twitter_samples is already up-to-date!\n"
          ]
        },
        {
          "output_type": "execute_result",
          "data": {
            "text/plain": [
              "True"
            ]
          },
          "metadata": {},
          "execution_count": 2
        }
      ]
    },
    {
      "cell_type": "markdown",
      "source": [
        "#Reading data"
      ],
      "metadata": {
        "id": "dnLKwE-XcgFW"
      }
    },
    {
      "cell_type": "code",
      "source": [
        "from nltk.corpus import twitter_samples\n",
        "pos_tweets = twitter_samples.strings('positive_tweets.json')\n",
        "neg_tweets = twitter_samples.strings('negative_tweets.json')"
      ],
      "metadata": {
        "id": "ldPQy3sfbziE"
      },
      "execution_count": 3,
      "outputs": []
    },
    {
      "cell_type": "markdown",
      "source": [
        "#data cleaning"
      ],
      "metadata": {
        "id": "yk_7zaS9cjb-"
      }
    },
    {
      "cell_type": "code",
      "source": [
        "import re"
      ],
      "metadata": {
        "id": "GX8y_9WjcjCW"
      },
      "execution_count": 4,
      "outputs": []
    },
    {
      "cell_type": "code",
      "source": [
        "def cleanText(text):\n",
        "  text= re.sub(r'#[\\S|_]*','',text) #hashtage removing\n",
        "  text= re.sub(r'@[\\S|_]*','',text) #username removing\n",
        "  text= re.sub(r'https?:\\/\\/\\S+','',text) #hyperlink removing\n",
        "  text = re.sub(r'\\W',' ',text) #remove any emotions\n",
        "  text = re.sub(r'\\d+','',text) #remove any standalone digits\n",
        "  text = re.sub(r'^\\s+','',text)#remove spaces that at start of the sentences\n",
        "  text = re.sub(r'\\s+$','',text)#remove spaces that at end of the sentences\n",
        "\n",
        "  return text"
      ],
      "metadata": {
        "id": "0rkSHwkhcLCX"
      },
      "execution_count": 5,
      "outputs": []
    },
    {
      "cell_type": "code",
      "source": [
        "cleanText(pos_tweets[0])"
      ],
      "metadata": {
        "id": "Q8-VXq75fe04",
        "outputId": "2ef28331-ab27-4091-fe59-5fcd8113f3fb",
        "colab": {
          "base_uri": "https://localhost:8080/",
          "height": 35
        }
      },
      "execution_count": 6,
      "outputs": [
        {
          "output_type": "execute_result",
          "data": {
            "text/plain": [
              "'for being top engaged members in my community this week'"
            ],
            "application/vnd.google.colaboratory.intrinsic+json": {
              "type": "string"
            }
          },
          "metadata": {},
          "execution_count": 6
        }
      ]
    },
    {
      "cell_type": "code",
      "source": [
        "nltk.download('stopwords')\n",
        "from nltk.corpus import stopwords\n",
        "stop_words = set(stopwords.words(\"english\"))"
      ],
      "metadata": {
        "id": "xHTassmjjY1h",
        "outputId": "0f6042be-f11c-4a8b-defc-ac9e79b1d191",
        "colab": {
          "base_uri": "https://localhost:8080/"
        }
      },
      "execution_count": 7,
      "outputs": [
        {
          "output_type": "stream",
          "name": "stdout",
          "text": [
            "[nltk_data] Downloading package stopwords to /root/nltk_data...\n",
            "[nltk_data]   Package stopwords is already up-to-date!\n"
          ]
        }
      ]
    },
    {
      "cell_type": "code",
      "source": [
        "from nltk.stem import PorterStemmer\n",
        "def process_on_tweets(tweets):\n",
        "  result=[]\n",
        "  for tweet in tweets:\n",
        "    tweet = cleanText(tweet)\n",
        "    tweet = tweet.split()\n",
        "    tweet=[word for word in tweet if word.lower() not in stop_words]\n",
        "\n",
        "    ps = PorterStemmer()\n",
        "    tweet=[ps.stem(word) for word in tweet]\n",
        "\n",
        "    result.append(tweet)\n",
        "  return result"
      ],
      "metadata": {
        "id": "E-fXmeTsflF1"
      },
      "execution_count": 8,
      "outputs": []
    },
    {
      "cell_type": "code",
      "source": [
        "positive_tweets = process_on_tweets(pos_tweets)\n",
        "negative_tweets = process_on_tweets(neg_tweets)"
      ],
      "metadata": {
        "id": "B1Vtcm_WyVA5"
      },
      "execution_count": 9,
      "outputs": []
    },
    {
      "cell_type": "markdown",
      "source": [
        "#Frequinces\n",
        "### (word,label):freq"
      ],
      "metadata": {
        "id": "7SDkY0Dxy8Ia"
      }
    },
    {
      "cell_type": "code",
      "source": [
        "def build_freq(tweets,label):\n",
        "  freq ={}\n",
        "  for tweet in tweets:\n",
        "    for word in tweet:\n",
        "      key = (word,label)\n",
        "      if key in freq:\n",
        "        freq[key]+=1\n",
        "      else:\n",
        "        freq[key]=1\n",
        "\n",
        "  return freq"
      ],
      "metadata": {
        "id": "d64G3WST1zDE"
      },
      "execution_count": 10,
      "outputs": []
    },
    {
      "cell_type": "code",
      "source": [
        "pos_freq = build_freq(positive_tweets,1)\n",
        "neg_freq = build_freq(negative_tweets,0)"
      ],
      "metadata": {
        "id": "RZkIDVGR3ZV7"
      },
      "execution_count": 11,
      "outputs": []
    },
    {
      "cell_type": "markdown",
      "source": [
        "#building features"
      ],
      "metadata": {
        "id": "T66wR2rF4dnL"
      }
    },
    {
      "cell_type": "code",
      "source": [
        "def build_features(tweets,p_freq,n_freq):\n",
        "  features=[]\n",
        "  temp_vec = []\n",
        "\n",
        "  for tweet in tweets:\n",
        "    temp_vec=[0]*3   #[0,0,0]\n",
        "    p_count = 0\n",
        "    n_count = 0\n",
        "    temp_vec[0]=1   #bias = 1\n",
        "    for word in tweet:\n",
        "      p_count+=p_freq.get((word,1),1)\n",
        "      n_count+=n_freq.get((word,0),0)\n",
        "\n",
        "    temp_vec[1]=p_count\n",
        "    temp_vec[2]=n_count\n",
        "\n",
        "\n",
        "    features.append(temp_vec)\n",
        "  return features"
      ],
      "metadata": {
        "id": "yXgsM1A64Xpr"
      },
      "execution_count": 12,
      "outputs": []
    },
    {
      "cell_type": "code",
      "source": [
        "pos_features = build_features(positive_tweets,pos_freq,neg_freq)\n",
        "neg_features = build_features(negative_tweets,pos_freq,neg_freq)"
      ],
      "metadata": {
        "id": "jQEpJrNs9lTQ"
      },
      "execution_count": 13,
      "outputs": []
    },
    {
      "cell_type": "code",
      "source": [
        "pos_features[0]"
      ],
      "metadata": {
        "id": "a2EzIr1W92se",
        "outputId": "9dd740fa-3d7d-4147-fd61-0621b4dde662",
        "colab": {
          "base_uri": "https://localhost:8080/"
        }
      },
      "execution_count": 14,
      "outputs": [
        {
          "output_type": "execute_result",
          "data": {
            "text/plain": [
              "[1, 173, 73]"
            ]
          },
          "metadata": {},
          "execution_count": 14
        }
      ]
    },
    {
      "cell_type": "code",
      "source": [
        "len(pos_features)"
      ],
      "metadata": {
        "id": "lBW9YBTcFp0d",
        "outputId": "84d16071-60ea-4770-c623-3bc59eeab303",
        "colab": {
          "base_uri": "https://localhost:8080/"
        }
      },
      "execution_count": 15,
      "outputs": [
        {
          "output_type": "execute_result",
          "data": {
            "text/plain": [
              "5000"
            ]
          },
          "metadata": {},
          "execution_count": 15
        }
      ]
    },
    {
      "cell_type": "code",
      "source": [
        "import numpy as np\n",
        "pos_y = np.ones((len(pos_features),1))\n",
        "neg_y = np.zeros((len(neg_features),1))"
      ],
      "metadata": {
        "id": "w13OkiDU940x"
      },
      "execution_count": 16,
      "outputs": []
    },
    {
      "cell_type": "code",
      "source": [
        "X=[]\n",
        "y = []\n",
        "for i in range(len(pos_features)):\n",
        "  X.append(pos_features[i])\n",
        "  X.append(neg_features[i])\n",
        "  y.append(pos_y[i][0])\n",
        "  y.append(neg_y[i][0])\n"
      ],
      "metadata": {
        "id": "E7BugwdZBQ89"
      },
      "execution_count": 17,
      "outputs": []
    },
    {
      "cell_type": "code",
      "source": [
        "import pandas as pd\n",
        "data = pd.DataFrame(data=X,columns=['Bias','Feature 1','Feature 2'])\n",
        "data['Label'] = y\n",
        "data.head()"
      ],
      "metadata": {
        "id": "8IVck1KdMSCB",
        "outputId": "9113062c-e1ad-438d-f403-141735c5ed6f",
        "colab": {
          "base_uri": "https://localhost:8080/",
          "height": 206
        }
      },
      "execution_count": 18,
      "outputs": [
        {
          "output_type": "execute_result",
          "data": {
            "text/plain": [
              "   Bias  Feature 1  Feature 2  Label\n",
              "0     1        173         73    1.0\n",
              "1     1          2          5    0.0\n",
              "2     1        918        505    1.0\n",
              "3     1         76        130    0.0\n",
              "4     1        194        159    1.0"
            ],
            "text/html": [
              "\n",
              "  <div id=\"df-b714bc0a-e78b-402a-8a05-3a0613de89d2\">\n",
              "    <div class=\"colab-df-container\">\n",
              "      <div>\n",
              "<style scoped>\n",
              "    .dataframe tbody tr th:only-of-type {\n",
              "        vertical-align: middle;\n",
              "    }\n",
              "\n",
              "    .dataframe tbody tr th {\n",
              "        vertical-align: top;\n",
              "    }\n",
              "\n",
              "    .dataframe thead th {\n",
              "        text-align: right;\n",
              "    }\n",
              "</style>\n",
              "<table border=\"1\" class=\"dataframe\">\n",
              "  <thead>\n",
              "    <tr style=\"text-align: right;\">\n",
              "      <th></th>\n",
              "      <th>Bias</th>\n",
              "      <th>Feature 1</th>\n",
              "      <th>Feature 2</th>\n",
              "      <th>Label</th>\n",
              "    </tr>\n",
              "  </thead>\n",
              "  <tbody>\n",
              "    <tr>\n",
              "      <th>0</th>\n",
              "      <td>1</td>\n",
              "      <td>173</td>\n",
              "      <td>73</td>\n",
              "      <td>1.0</td>\n",
              "    </tr>\n",
              "    <tr>\n",
              "      <th>1</th>\n",
              "      <td>1</td>\n",
              "      <td>2</td>\n",
              "      <td>5</td>\n",
              "      <td>0.0</td>\n",
              "    </tr>\n",
              "    <tr>\n",
              "      <th>2</th>\n",
              "      <td>1</td>\n",
              "      <td>918</td>\n",
              "      <td>505</td>\n",
              "      <td>1.0</td>\n",
              "    </tr>\n",
              "    <tr>\n",
              "      <th>3</th>\n",
              "      <td>1</td>\n",
              "      <td>76</td>\n",
              "      <td>130</td>\n",
              "      <td>0.0</td>\n",
              "    </tr>\n",
              "    <tr>\n",
              "      <th>4</th>\n",
              "      <td>1</td>\n",
              "      <td>194</td>\n",
              "      <td>159</td>\n",
              "      <td>1.0</td>\n",
              "    </tr>\n",
              "  </tbody>\n",
              "</table>\n",
              "</div>\n",
              "      <button class=\"colab-df-convert\" onclick=\"convertToInteractive('df-b714bc0a-e78b-402a-8a05-3a0613de89d2')\"\n",
              "              title=\"Convert this dataframe to an interactive table.\"\n",
              "              style=\"display:none;\">\n",
              "        \n",
              "  <svg xmlns=\"http://www.w3.org/2000/svg\" height=\"24px\"viewBox=\"0 0 24 24\"\n",
              "       width=\"24px\">\n",
              "    <path d=\"M0 0h24v24H0V0z\" fill=\"none\"/>\n",
              "    <path d=\"M18.56 5.44l.94 2.06.94-2.06 2.06-.94-2.06-.94-.94-2.06-.94 2.06-2.06.94zm-11 1L8.5 8.5l.94-2.06 2.06-.94-2.06-.94L8.5 2.5l-.94 2.06-2.06.94zm10 10l.94 2.06.94-2.06 2.06-.94-2.06-.94-.94-2.06-.94 2.06-2.06.94z\"/><path d=\"M17.41 7.96l-1.37-1.37c-.4-.4-.92-.59-1.43-.59-.52 0-1.04.2-1.43.59L10.3 9.45l-7.72 7.72c-.78.78-.78 2.05 0 2.83L4 21.41c.39.39.9.59 1.41.59.51 0 1.02-.2 1.41-.59l7.78-7.78 2.81-2.81c.8-.78.8-2.07 0-2.86zM5.41 20L4 18.59l7.72-7.72 1.47 1.35L5.41 20z\"/>\n",
              "  </svg>\n",
              "      </button>\n",
              "      \n",
              "  <style>\n",
              "    .colab-df-container {\n",
              "      display:flex;\n",
              "      flex-wrap:wrap;\n",
              "      gap: 12px;\n",
              "    }\n",
              "\n",
              "    .colab-df-convert {\n",
              "      background-color: #E8F0FE;\n",
              "      border: none;\n",
              "      border-radius: 50%;\n",
              "      cursor: pointer;\n",
              "      display: none;\n",
              "      fill: #1967D2;\n",
              "      height: 32px;\n",
              "      padding: 0 0 0 0;\n",
              "      width: 32px;\n",
              "    }\n",
              "\n",
              "    .colab-df-convert:hover {\n",
              "      background-color: #E2EBFA;\n",
              "      box-shadow: 0px 1px 2px rgba(60, 64, 67, 0.3), 0px 1px 3px 1px rgba(60, 64, 67, 0.15);\n",
              "      fill: #174EA6;\n",
              "    }\n",
              "\n",
              "    [theme=dark] .colab-df-convert {\n",
              "      background-color: #3B4455;\n",
              "      fill: #D2E3FC;\n",
              "    }\n",
              "\n",
              "    [theme=dark] .colab-df-convert:hover {\n",
              "      background-color: #434B5C;\n",
              "      box-shadow: 0px 1px 3px 1px rgba(0, 0, 0, 0.15);\n",
              "      filter: drop-shadow(0px 1px 2px rgba(0, 0, 0, 0.3));\n",
              "      fill: #FFFFFF;\n",
              "    }\n",
              "  </style>\n",
              "\n",
              "      <script>\n",
              "        const buttonEl =\n",
              "          document.querySelector('#df-b714bc0a-e78b-402a-8a05-3a0613de89d2 button.colab-df-convert');\n",
              "        buttonEl.style.display =\n",
              "          google.colab.kernel.accessAllowed ? 'block' : 'none';\n",
              "\n",
              "        async function convertToInteractive(key) {\n",
              "          const element = document.querySelector('#df-b714bc0a-e78b-402a-8a05-3a0613de89d2');\n",
              "          const dataTable =\n",
              "            await google.colab.kernel.invokeFunction('convertToInteractive',\n",
              "                                                     [key], {});\n",
              "          if (!dataTable) return;\n",
              "\n",
              "          const docLinkHtml = 'Like what you see? Visit the ' +\n",
              "            '<a target=\"_blank\" href=https://colab.research.google.com/notebooks/data_table.ipynb>data table notebook</a>'\n",
              "            + ' to learn more about interactive tables.';\n",
              "          element.innerHTML = '';\n",
              "          dataTable['output_type'] = 'display_data';\n",
              "          await google.colab.output.renderOutput(dataTable, element);\n",
              "          const docLink = document.createElement('div');\n",
              "          docLink.innerHTML = docLinkHtml;\n",
              "          element.appendChild(docLink);\n",
              "        }\n",
              "      </script>\n",
              "    </div>\n",
              "  </div>\n",
              "  "
            ]
          },
          "metadata": {},
          "execution_count": 18
        }
      ]
    },
    {
      "cell_type": "code",
      "source": [
        "from sklearn.model_selection import train_test_split\n",
        "X_train,X_test,y_train,y_test = train_test_split(data.iloc[:,:-1].values,data.iloc[:,-1].values)"
      ],
      "metadata": {
        "id": "IOTzUBr1NBYq"
      },
      "execution_count": 19,
      "outputs": []
    },
    {
      "cell_type": "code",
      "source": [
        "from sklearn.linear_model import LogisticRegression\n",
        "model = LogisticRegression()\n",
        "model.fit(X_train,y_train)"
      ],
      "metadata": {
        "id": "npE4ETPdODgn",
        "outputId": "c332cea2-5df2-458c-ab90-afe79893b77a",
        "colab": {
          "base_uri": "https://localhost:8080/"
        }
      },
      "execution_count": 20,
      "outputs": [
        {
          "output_type": "execute_result",
          "data": {
            "text/plain": [
              "LogisticRegression()"
            ]
          },
          "metadata": {},
          "execution_count": 20
        }
      ]
    },
    {
      "cell_type": "code",
      "source": [
        "y_pred = model.predict(X_test)"
      ],
      "metadata": {
        "id": "fEKImoR4PLZY"
      },
      "execution_count": 21,
      "outputs": []
    },
    {
      "cell_type": "code",
      "source": [
        "from sklearn.metrics import accuracy_score\n",
        "print(accuracy_score(y_pred,y_test))"
      ],
      "metadata": {
        "id": "B0QnKtVGOW04",
        "outputId": "828ee4ef-7ae9-4ceb-9002-6c1db7535894",
        "colab": {
          "base_uri": "https://localhost:8080/"
        }
      },
      "execution_count": 22,
      "outputs": [
        {
          "output_type": "stream",
          "name": "stdout",
          "text": [
            "0.7636\n"
          ]
        }
      ]
    }
  ]
}